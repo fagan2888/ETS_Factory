{
  "nbformat": 4,
  "nbformat_minor": 0,
  "metadata": {
    "kernelspec": {
      "name": "python3",
      "display_name": "Python 3"
    },
    "language_info": {
      "codemirror_mode": {
        "name": "ipython",
        "version": 3
      },
      "file_extension": ".py",
      "mimetype": "text/x-python",
      "name": "python",
      "nbconvert_exporter": "python",
      "pygments_lexer": "ipython3",
      "version": "3.7.3"
    },
    "colab": {
      "name": "Project.ipynb",
      "provenance": [],
      "collapsed_sections": []
    },
    "accelerator": "GPU"
  },
  "cells": [
    {
      "cell_type": "code",
      "metadata": {
        "id": "W5xv5xRvLgRW",
        "colab_type": "code",
        "outputId": "4492ad20-5010-4217-8911-7ae14afb615b",
        "colab": {
          "base_uri": "https://localhost:8080/",
          "height": 124
        }
      },
      "source": [
        "from google.colab import drive\n",
        "drive.mount('/content/drive')"
      ],
      "execution_count": 4,
      "outputs": [
        {
          "output_type": "stream",
          "text": [
            "Go to this URL in a browser: https://accounts.google.com/o/oauth2/auth?client_id=947318989803-6bn6qk8qdgf4n4g3pfee6491hc0brc4i.apps.googleusercontent.com&redirect_uri=urn%3Aietf%3Awg%3Aoauth%3A2.0%3Aoob&scope=email%20https%3A%2F%2Fwww.googleapis.com%2Fauth%2Fdocs.test%20https%3A%2F%2Fwww.googleapis.com%2Fauth%2Fdrive%20https%3A%2F%2Fwww.googleapis.com%2Fauth%2Fdrive.photos.readonly%20https%3A%2F%2Fwww.googleapis.com%2Fauth%2Fpeopleapi.readonly&response_type=code\n",
            "\n",
            "Enter your authorization code:\n",
            "··········\n",
            "Mounted at /content/drive\n"
          ],
          "name": "stdout"
        }
      ]
    },
    {
      "cell_type": "code",
      "metadata": {
        "id": "Jtw_-DL9NcJZ",
        "colab_type": "code",
        "outputId": "178c7cb6-c66e-4f0b-8713-e2d1e49df152",
        "colab": {
          "base_uri": "https://localhost:8080/",
          "height": 295
        }
      },
      "source": [
        "!pip install pyunpack\n",
        "!pip install patool"
      ],
      "execution_count": 1,
      "outputs": [
        {
          "output_type": "stream",
          "text": [
            "Collecting pyunpack\n",
            "  Downloading https://files.pythonhosted.org/packages/79/dc/44cd41fb99d184ae7c2eac439a52ca624d5ece62b0302c3437fcc4ce3b58/pyunpack-0.1.2.tar.gz\n",
            "Collecting easyprocess (from pyunpack)\n",
            "  Downloading https://files.pythonhosted.org/packages/fa/29/40040d1d64a224a5e44df9572794a66494618ffe5c77199214aeceedb8a7/EasyProcess-0.2.7-py2.py3-none-any.whl\n",
            "Building wheels for collected packages: pyunpack\n",
            "  Building wheel for pyunpack (setup.py) ... \u001b[?25l\u001b[?25hdone\n",
            "  Created wheel for pyunpack: filename=pyunpack-0.1.2-cp36-none-any.whl size=5162 sha256=f07d60ff94846abbd02b1154aeee4e1f713304d5a9d0986a6b133d67792b3a65\n",
            "  Stored in directory: /root/.cache/pip/wheels/af/44/08/60613970881e542c0baad1f2dea5ed8e6716bc573f49197b7e\n",
            "Successfully built pyunpack\n",
            "Installing collected packages: easyprocess, pyunpack\n",
            "Successfully installed easyprocess-0.2.7 pyunpack-0.1.2\n",
            "Collecting patool\n",
            "\u001b[?25l  Downloading https://files.pythonhosted.org/packages/43/94/52243ddff508780dd2d8110964320ab4851134a55ab102285b46e740f76a/patool-1.12-py2.py3-none-any.whl (77kB)\n",
            "\u001b[K     |████████████████████████████████| 81kB 3.1MB/s \n",
            "\u001b[?25hInstalling collected packages: patool\n",
            "Successfully installed patool-1.12\n"
          ],
          "name": "stdout"
        }
      ]
    },
    {
      "cell_type": "code",
      "metadata": {
        "id": "GBTrIgFWNeEx",
        "colab_type": "code",
        "colab": {}
      },
      "source": [
        "from pyunpack import Archive"
      ],
      "execution_count": 0,
      "outputs": []
    },
    {
      "cell_type": "code",
      "metadata": {
        "id": "G6JySeSbMHA5",
        "colab_type": "code",
        "outputId": "b1aac48d-e401-43d8-b9b5-8f7a9b76a8d6",
        "colab": {
          "base_uri": "https://localhost:8080/",
          "height": 86
        }
      },
      "source": [
        "# for each \".7z\" file\n",
        "for file_name in [\"/content/drive/My Drive/train.7z\", \"/content/drive/My Drive/test.7z\"]:\n",
        "\n",
        "    # extracting all the files \n",
        "    print('Extracting all the files now...') \n",
        "    a = Archive(file_name)\n",
        "    a.extractall(\"/content\")\n",
        "    print('Done!')"
      ],
      "execution_count": 5,
      "outputs": [
        {
          "output_type": "stream",
          "text": [
            "Extracting all the files now...\n",
            "Done!\n",
            "Extracting all the files now...\n",
            "Done!\n"
          ],
          "name": "stdout"
        }
      ]
    },
    {
      "cell_type": "markdown",
      "metadata": {
        "id": "Fr9JEk_lORLc",
        "colab_type": "text"
      },
      "source": [
        "---"
      ]
    },
    {
      "cell_type": "code",
      "metadata": {
        "id": "XTTX8N4svTNa",
        "colab_type": "code",
        "colab": {}
      },
      "source": [
        "# Author \n",
        "#  - Name:   Pablo Leo Muñoz\n",
        "#  - Email:  pabloleo96@gmail.com\n",
        "#  - Github: https://github.com/pabloleo-96"
      ],
      "execution_count": 0,
      "outputs": []
    },
    {
      "cell_type": "code",
      "metadata": {
        "id": "A2srRzDSvxmG",
        "colab_type": "code",
        "colab": {}
      },
      "source": [
        "# Note: The model was trained using tensorflow==1.15.0 on its GPU version"
      ],
      "execution_count": 0,
      "outputs": []
    },
    {
      "cell_type": "code",
      "metadata": {
        "id": "G-tm_g98LarO",
        "colab_type": "code",
        "colab": {}
      },
      "source": [
        "# data handling\n",
        "import pandas as pd\n",
        "\n",
        "# numerical operations\n",
        "import numpy as np\n",
        "\n",
        "# plots\n",
        "import matplotlib.pyplot as plt\n",
        "import matplotlib.cm as cm\n",
        "\n",
        "# machine learning\n",
        "from sklearn.model_selection import train_test_split\n",
        "from sklearn.metrics import confusion_matrix, roc_auc_score\n",
        "\n",
        "# deep learning\n",
        "from tensorflow.keras.layers import Dense, Dropout, Input, CuDNNLSTM, Flatten\n",
        "from tensorflow.keras.models import Model, load_model\n",
        "from tensorflow.keras.optimizers import Adam\n",
        "from tensorflow.keras.callbacks import ModelCheckpoint, ReduceLROnPlateau"
      ],
      "execution_count": 0,
      "outputs": []
    },
    {
      "cell_type": "code",
      "metadata": {
        "id": "lzljCDEnLarq",
        "colab_type": "code",
        "colab": {}
      },
      "source": [
        "# make plots bigger\n",
        "plt.rcParams['figure.figsize'] = [12, 8]"
      ],
      "execution_count": 0,
      "outputs": []
    },
    {
      "cell_type": "code",
      "metadata": {
        "id": "DC4IjaI3Lar4",
        "colab_type": "code",
        "colab": {}
      },
      "source": [
        "# load \".csv\" into memory\n",
        "df_train = pd.read_csv(\"train.csv\")\n",
        "df_test = pd.read_csv(\"test.csv\")"
      ],
      "execution_count": 0,
      "outputs": []
    },
    {
      "cell_type": "code",
      "metadata": {
        "id": "QT-bOljFLasE",
        "colab_type": "code",
        "outputId": "98a91d3c-8044-42ea-c5bd-463065bb5fec",
        "colab": {
          "base_uri": "https://localhost:8080/",
          "height": 52
        }
      },
      "source": [
        "# check dimensions of the training/test dataset\n",
        "n_samples_train, n_variables_train = df_train.shape\n",
        "n_samples_test, n_variables_test = df_test.shape\n",
        "\n",
        "# show info\n",
        "print(\"There are {} samples in the training set with {} variables\".format(n_samples_train, n_variables_train))\n",
        "print(\"There are {} samples in the test set with {} variables\".format(n_samples_test, n_variables_test))"
      ],
      "execution_count": 9,
      "outputs": [
        {
          "output_type": "stream",
          "text": [
            "There are 12000 samples in the training set with 261 variables\n",
            "There are 12000 samples in the test set with 260 variables\n"
          ],
          "name": "stdout"
        }
      ]
    },
    {
      "cell_type": "code",
      "metadata": {
        "id": "iyLfpgsQLasQ",
        "colab_type": "code",
        "outputId": "984048e7-f5bd-45ee-f14a-bda28a254e8f",
        "colab": {
          "base_uri": "https://localhost:8080/",
          "height": 499
        }
      },
      "source": [
        "# chech if the classes are balanced\n",
        "uniques, counts = np.unique(df_train.iloc[:,-1].values, return_counts = True)\n",
        "\n",
        "# show a barplot\n",
        "plt.bar(uniques, counts, color = (0,0.2,0.5,.6))\n",
        "plt.xticks(uniques)\n",
        "plt.title(\"Class distribution\")\n",
        "plt.show()"
      ],
      "execution_count": 11,
      "outputs": [
        {
          "output_type": "display_data",
          "data": {
            "image/png": "[encoded data removed]",
            "text/plain": [
              "<Figure size 864x576 with 1 Axes>"
            ]
          },
          "metadata": {
            "tags": []
          }
        }
      ]
    },
    {
      "cell_type": "code",
      "metadata": {
        "id": "JZ2C76SkLase",
        "colab_type": "code",
        "colab": {}
      },
      "source": [
        "# both classes are balanced, therefore there is no need to use any balancing technique"
      ],
      "execution_count": 0,
      "outputs": []
    },
    {
      "cell_type": "code",
      "metadata": {
        "id": "mOralcBmLasn",
        "colab_type": "code",
        "colab": {}
      },
      "source": [
        "def check_na(df):\n",
        "    \"\"\"\n",
        "    Function that takes as input a dataframe and shows information\n",
        "    about the amount of missing values on each variable\n",
        "    \"\"\"\n",
        "    \n",
        "    # get a mask containing whetere there ar NA's\n",
        "    na_mask = df.isna()\n",
        "    \n",
        "    # get the number of NA's on each variable\n",
        "    na_vars = np.sum(na_mask, axis = 0)\n",
        "    \n",
        "    print(\"There are {} variables with missing values\".format(np.sum(na_vars > 0)))"
      ],
      "execution_count": 0,
      "outputs": []
    },
    {
      "cell_type": "code",
      "metadata": {
        "id": "UHHf_nk5Lasu",
        "colab_type": "code",
        "outputId": "aeff742a-317b-406b-c6f9-ed042a4512f7",
        "colab": {
          "base_uri": "https://localhost:8080/",
          "height": 52
        }
      },
      "source": [
        "# check if there are missing values\n",
        "check_na(df_train)\n",
        "check_na(df_test)"
      ],
      "execution_count": 13,
      "outputs": [
        {
          "output_type": "stream",
          "text": [
            "There are 0 variables with missing values\n",
            "There are 0 variables with missing values\n"
          ],
          "name": "stdout"
        }
      ]
    },
    {
      "cell_type": "code",
      "metadata": {
        "id": "nzvFv0_9Las5",
        "colab_type": "code",
        "colab": {}
      },
      "source": [
        "# none of the variables have missing values, therefore there is no need to use any imputting method"
      ],
      "execution_count": 0,
      "outputs": []
    },
    {
      "cell_type": "code",
      "metadata": {
        "id": "Iwqp8j7ULatE",
        "colab_type": "code",
        "colab": {}
      },
      "source": [
        "# plot a 'real' and 'synthetic' time series\n",
        "synth = df_train[df_train[\"class\"] == 0].sample()\n",
        "real = df_train[df_train[\"class\"] == 1].sample()\n",
        "\n",
        "# get only the features and generate the cumulative sum of daily returns\n",
        "synth_sum = np.cumsum(synth.iloc[:,:-1], axis = 1)\n",
        "real_sum = np.cumsum(real.iloc[:,:-1], axis = 1)"
      ],
      "execution_count": 0,
      "outputs": []
    },
    {
      "cell_type": "code",
      "metadata": {
        "id": "La5wXaXvLatP",
        "colab_type": "code",
        "outputId": "5b2df777-9894-4d1a-de8d-3cd725b4f1e4",
        "colab": {
          "base_uri": "https://localhost:8080/",
          "height": 499
        }
      },
      "source": [
        "# plot the synthetic and the real one\n",
        "plt.plot(synth_sum.values[0], color = (1,0,0,.4))\n",
        "plt.plot(real_sum.values[0], color = (0,0.4,0.8,.4))\n",
        "plt.title(\"Example of 'Synthetic' and 'Real' TS\")\n",
        "plt.legend([\"Synthetic\", \"Real\"])\n",
        "plt.show()"
      ],
      "execution_count": 16,
      "outputs": [
        {
          "output_type": "display_data",
          "data": {
            "image/png": "[encoded data removed]",
            "text/plain": [
              "<Figure size 864x576 with 1 Axes>"
            ]
          },
          "metadata": {
            "tags": []
          }
        }
      ]
    },
    {
      "cell_type": "code",
      "metadata": {
        "id": "T2Nx-q0f1LFI",
        "colab_type": "code",
        "outputId": "4b47462f-0b70-4825-b2c4-e76937a03fa2",
        "colab": {
          "base_uri": "https://localhost:8080/",
          "height": 499
        }
      },
      "source": [
        "# plot the distribution of raw daily returns synthetic and real\n",
        "plt.hist(df_train[df_train[\"class\"] == 0].values[:,:-1].flatten(), bins = 200, color = (1,0,0,.4))\n",
        "plt.hist(df_train[df_train[\"class\"] == 1].values[:,:-1].flatten(), bins = 200, color = (0,0.4,0.8,.4))\n",
        "plt.title(\"Income distribution of 'Synthetic' and 'Real'\")\n",
        "plt.legend([\"Synthetic\", \"Real\"])\n",
        "plt.show()"
      ],
      "execution_count": 0,
      "outputs": [
        {
          "output_type": "display_data",
          "data": {
            "image/png": "[encoded data removed]",
            "text/plain": [
              "<Figure size 864x576 with 1 Axes>"
            ]
          },
          "metadata": {
            "tags": []
          }
        }
      ]
    },
    {
      "cell_type": "code",
      "metadata": {
        "id": "SwupifCU1970",
        "colab_type": "code",
        "colab": {}
      },
      "source": [
        "# as one can see, the distribution of 'synthetic' and 'real' values look both \n",
        "# comes from a normal distribution with a mean around 0, a std around 0.1 and \n",
        "# a high kurtosis, this might indicate that they both come from the same \n",
        "# distribution and will probably be hard to differenciate"
      ],
      "execution_count": 0,
      "outputs": []
    },
    {
      "cell_type": "markdown",
      "metadata": {
        "id": "p7TNe4qtHJp4",
        "colab_type": "text"
      },
      "source": [
        "---"
      ]
    },
    {
      "cell_type": "code",
      "metadata": {
        "id": "AfCJW232Late",
        "colab_type": "code",
        "colab": {}
      },
      "source": [
        "# split our dataset into training / validation\n",
        "x_train, x_val, y_train, y_val = train_test_split(df_train.iloc[:,:-1].values, \n",
        "                                                  df_train.iloc[:,-1].values, \n",
        "                                                  test_size = 0.2,\n",
        "                                                  shuffle = True)"
      ],
      "execution_count": 0,
      "outputs": []
    },
    {
      "cell_type": "code",
      "metadata": {
        "id": "ZKtGVMQwLatm",
        "colab_type": "code",
        "colab": {}
      },
      "source": [
        "# generate the time series (cumulative sum)\n",
        "x_train = np.cumsum(x_train, axis = 1)\n",
        "x_val = np.cumsum(x_val, axis = 1)"
      ],
      "execution_count": 0,
      "outputs": []
    },
    {
      "cell_type": "code",
      "metadata": {
        "id": "Lq0s31tON4C2",
        "colab_type": "code",
        "colab": {}
      },
      "source": [
        "def scale_ts(x):\n",
        "    \"\"\"\n",
        "    Function that scales the time series in the range [0-1]\n",
        "    \"\"\"\n",
        "    \n",
        "    # list holding the data\n",
        "    x_scaled = []\n",
        "    \n",
        "    # calculate the scaled version\n",
        "    for ts in x:\n",
        "        x_scaled.append(((ts - ts.min()) / (ts.max() - ts.min())))\n",
        "    \n",
        "    # return a numpy array\n",
        "    return np.array(x_scaled)"
      ],
      "execution_count": 0,
      "outputs": []
    },
    {
      "cell_type": "code",
      "metadata": {
        "id": "u7CqR3lu9reP",
        "colab_type": "code",
        "colab": {}
      },
      "source": [
        "# scale both, train and test\n",
        "x_train = scale_ts(x_train)\n",
        "x_val = scale_ts(x_val)"
      ],
      "execution_count": 0,
      "outputs": []
    },
    {
      "cell_type": "code",
      "metadata": {
        "id": "FLNdlZcwLatx",
        "colab_type": "code",
        "colab": {}
      },
      "source": [
        "def generate_structure(x, y = None, n_steps = 20):\n",
        "    \"\"\"\n",
        "    Function that generates the correct structure to be used\n",
        "    in the RNN with a given timesteps (n_steps)\n",
        "    \"\"\"\n",
        "    \n",
        "    # list that will store the new data\n",
        "    x_lstm = []\n",
        "    y_lstm = []\n",
        "\n",
        "    # get the shape of the training structure\n",
        "    n_samples, n_vars = x.shape\n",
        "    \n",
        "    # iterate over each sample and each time step\n",
        "    for j in range(n_samples):\n",
        "        for i in range(n_steps, n_vars):\n",
        "            # append current ts and the correspoding label\n",
        "            x_lstm.append(x[j, i-n_steps:i])\n",
        "            \n",
        "            # check if 'y' is specified in the input\n",
        "            if y is not None:\n",
        "                y_lstm.append(y[j])\n",
        "            \n",
        "    # convert to numpy arrays and return them\n",
        "    if y is not None:\n",
        "        return np.array(x_lstm), np.array(y_lstm)\n",
        "    else:\n",
        "        return np.array(x_lstm)"
      ],
      "execution_count": 0,
      "outputs": []
    },
    {
      "cell_type": "code",
      "metadata": {
        "id": "XsfXfUT0Lat6",
        "colab_type": "code",
        "colab": {}
      },
      "source": [
        "# number of steps\n",
        "n_steps = 100\n",
        "\n",
        "# generate correct structure\n",
        "x_train_lstm, y_train_lstm = generate_structure(x_train, y_train, n_steps = n_steps)\n",
        "x_val_lstm, y_val_lstm = generate_structure(x_val, y_val, n_steps = n_steps)"
      ],
      "execution_count": 0,
      "outputs": []
    },
    {
      "cell_type": "code",
      "metadata": {
        "id": "6hivciSELauC",
        "colab_type": "code",
        "colab": {}
      },
      "source": [
        "# expand 1 dimension\n",
        "x_train_lstm = np.expand_dims(x_train_lstm, axis = 2)\n",
        "x_val_lstm = np.expand_dims(x_val_lstm, axis = 2)"
      ],
      "execution_count": 0,
      "outputs": []
    },
    {
      "cell_type": "code",
      "metadata": {
        "id": "bykxbJu2LauR",
        "colab_type": "code",
        "outputId": "1ceacc36-c883-4c87-bccf-a1d0f1c0e5b8",
        "colab": {
          "base_uri": "https://localhost:8080/",
          "height": 364
        }
      },
      "source": [
        "# generate the structure of the Recurrent Neural Network\n",
        "x_in = Input(shape = (x_train_lstm.shape[1], 1))\n",
        "\n",
        "# Cuda implementation (GPU) of LSTM\n",
        "x = CuDNNLSTM(units = 40, kernel_initializer = \"he_normal\", recurrent_initializer = \"he_normal\", return_sequences = False)(x_in)\n",
        "x = Dropout(0.2)(x) # dropout to avoid overfitting\n",
        "\n",
        "# Fully Connected\n",
        "x = Dense(32)(x)\n",
        "x = Dropout(0.2)(x)\n",
        "\n",
        "# Fully Connected\n",
        "x_out = Dense(1, activation = \"sigmoid\")(x)\n",
        "\n",
        "# model\n",
        "model = Model(x_in, x_out)\n",
        "\n",
        "# show the info summary\n",
        "model.summary()\n",
        "\n",
        "# parameters\n",
        "optimizer = Adam(lr = 1e-3)\n",
        "metrics = [\"accuracy\"]\n",
        "loss = \"binary_crossentropy\"\n",
        "\n",
        "# Compiling the RNN\n",
        "model.compile(optimizer = optimizer, loss = loss)"
      ],
      "execution_count": 29,
      "outputs": [
        {
          "output_type": "stream",
          "text": [
            "Model: \"model_1\"\n",
            "_________________________________________________________________\n",
            "Layer (type)                 Output Shape              Param #   \n",
            "=================================================================\n",
            "input_2 (InputLayer)         [(None, 100, 1)]          0         \n",
            "_________________________________________________________________\n",
            "cu_dnnlstm_1 (CuDNNLSTM)     (None, 40)                6880      \n",
            "_________________________________________________________________\n",
            "dropout_2 (Dropout)          (None, 40)                0         \n",
            "_________________________________________________________________\n",
            "dense_2 (Dense)              (None, 32)                1312      \n",
            "_________________________________________________________________\n",
            "dropout_3 (Dropout)          (None, 32)                0         \n",
            "_________________________________________________________________\n",
            "dense_3 (Dense)              (None, 1)                 33        \n",
            "=================================================================\n",
            "Total params: 8,225\n",
            "Trainable params: 8,225\n",
            "Non-trainable params: 0\n",
            "_________________________________________________________________\n"
          ],
          "name": "stdout"
        }
      ]
    },
    {
      "cell_type": "code",
      "metadata": {
        "id": "ZPpp0DY2Laub",
        "colab_type": "code",
        "colab": {}
      },
      "source": [
        "# checkpoint to save best model\n",
        "checkpoint = ModelCheckpoint(\"best_model.h5\", save_best_only = True, monitor = \"val_loss\", verbose = 1, mode = \"min\")\n",
        "\n",
        "# callback to reduce the learning rate on the training process\n",
        "lr_reducer = ReduceLROnPlateau(monitor = \"val_loss\", factor = 0.3, patience = 3, verbose = 1, min_lr = 1e-7)\n",
        "\n",
        "# list containing the callbacks\n",
        "callbacks = [checkpoint, lr_reducer]"
      ],
      "execution_count": 0,
      "outputs": []
    },
    {
      "cell_type": "code",
      "metadata": {
        "id": "wQBP7SCaLaup",
        "colab_type": "code",
        "outputId": "895135ae-3d62-49e2-ec4d-1bf827c62d90",
        "colab": {
          "base_uri": "https://localhost:8080/",
          "height": 816
        }
      },
      "source": [
        "# Fitting the RNN to the Training set\n",
        "model.fit(x_train_lstm, y_train_lstm,\n",
        "          epochs = 10,\n",
        "          verbose = 1,\n",
        "          callbacks = callbacks,\n",
        "          shuffle = False,\n",
        "          batch_size = 512,\n",
        "          validation_data = (x_val_lstm, y_val_lstm),\n",
        "          use_multiprocessing = True)"
      ],
      "execution_count": 31,
      "outputs": [
        {
          "output_type": "stream",
          "text": [
            "Train on 1536000 samples, validate on 384000 samples\n",
            "Epoch 1/10\n",
            "1535488/1536000 [============================>.] - ETA: 0s - loss: 0.6981\n",
            "Epoch 00001: val_loss improved from inf to 0.69308, saving model to best_model.h5\n",
            "1536000/1536000 [==============================] - 62s 41us/sample - loss: 0.6980 - val_loss: 0.6931\n",
            "Epoch 2/10\n",
            "1534976/1536000 [============================>.] - ETA: 0s - loss: 0.6937\n",
            "Epoch 00002: val_loss improved from 0.69308 to 0.69294, saving model to best_model.h5\n",
            "1536000/1536000 [==============================] - 63s 41us/sample - loss: 0.6937 - val_loss: 0.6929\n",
            "Epoch 3/10\n",
            "1534464/1536000 [============================>.] - ETA: 0s - loss: 0.6933\n",
            "Epoch 00003: val_loss did not improve from 0.69294\n",
            "1536000/1536000 [==============================] - 61s 39us/sample - loss: 0.6933 - val_loss: 0.6930\n",
            "Epoch 4/10\n",
            "1534464/1536000 [============================>.] - ETA: 0s - loss: 0.6933\n",
            "Epoch 00004: val_loss did not improve from 0.69294\n",
            "1536000/1536000 [==============================] - 63s 41us/sample - loss: 0.6933 - val_loss: 0.6930\n",
            "Epoch 5/10\n",
            "1534976/1536000 [============================>.] - ETA: 0s - loss: 0.6932\n",
            "Epoch 00005: val_loss did not improve from 0.69294\n",
            "\n",
            "Epoch 00005: ReduceLROnPlateau reducing learning rate to 0.0003000000142492354.\n",
            "1536000/1536000 [==============================] - 63s 41us/sample - loss: 0.6932 - val_loss: 0.6930\n",
            "Epoch 6/10\n",
            "1534464/1536000 [============================>.] - ETA: 0s - loss: 0.6930\n",
            "Epoch 00006: val_loss did not improve from 0.69294\n",
            "1536000/1536000 [==============================] - 63s 41us/sample - loss: 0.6930 - val_loss: 0.6930\n",
            "Epoch 7/10\n",
            "1534976/1536000 [============================>.] - ETA: 0s - loss: 0.6930\n",
            "Epoch 00007: val_loss did not improve from 0.69294\n",
            "1536000/1536000 [==============================] - 62s 40us/sample - loss: 0.6930 - val_loss: 0.6930\n",
            "Epoch 8/10\n",
            "1534976/1536000 [============================>.] - ETA: 0s - loss: 0.6930\n",
            "Epoch 00008: val_loss did not improve from 0.69294\n",
            "\n",
            "Epoch 00008: ReduceLROnPlateau reducing learning rate to 9.000000427477062e-05.\n",
            "1536000/1536000 [==============================] - 63s 41us/sample - loss: 0.6930 - val_loss: 0.6930\n",
            "Epoch 9/10\n",
            "1534976/1536000 [============================>.] - ETA: 0s - loss: 0.6929\n",
            "Epoch 00009: val_loss did not improve from 0.69294\n",
            "1536000/1536000 [==============================] - 62s 41us/sample - loss: 0.6929 - val_loss: 0.6931\n",
            "Epoch 10/10\n",
            "1534976/1536000 [============================>.] - ETA: 0s - loss: 0.6929\n",
            "Epoch 00010: val_loss did not improve from 0.69294\n",
            "1536000/1536000 [==============================] - 61s 39us/sample - loss: 0.6929 - val_loss: 0.6931\n"
          ],
          "name": "stdout"
        },
        {
          "output_type": "execute_result",
          "data": {
            "text/plain": [
              "<tensorflow.python.keras.callbacks.History at 0x7f722f6b49e8>"
            ]
          },
          "metadata": {
            "tags": []
          },
          "execution_count": 31
        }
      ]
    },
    {
      "cell_type": "code",
      "metadata": {
        "id": "WcIPZ9u790X6",
        "colab_type": "code",
        "outputId": "53d82fc3-742f-4ea4-e990-1854811d4aae",
        "colab": {
          "base_uri": "https://localhost:8080/",
          "height": 193
        }
      },
      "source": [
        "# load best model (lowest validation loss)\n",
        "model = load_model(\"best_model.h5\")"
      ],
      "execution_count": 32,
      "outputs": [
        {
          "output_type": "stream",
          "text": [
            "WARNING:tensorflow:From /usr/local/lib/python3.6/dist-packages/tensorflow_core/python/ops/init_ops.py:97: calling VarianceScaling.__init__ (from tensorflow.python.ops.init_ops) with dtype is deprecated and will be removed in a future version.\n",
            "Instructions for updating:\n",
            "Call initializer instance with the dtype argument instead of passing it to the constructor\n",
            "WARNING:tensorflow:From /usr/local/lib/python3.6/dist-packages/tensorflow_core/python/ops/init_ops.py:97: calling Zeros.__init__ (from tensorflow.python.ops.init_ops) with dtype is deprecated and will be removed in a future version.\n",
            "Instructions for updating:\n",
            "Call initializer instance with the dtype argument instead of passing it to the constructor\n",
            "WARNING:tensorflow:From /usr/local/lib/python3.6/dist-packages/tensorflow_core/python/ops/init_ops.py:97: calling GlorotUniform.__init__ (from tensorflow.python.ops.init_ops) with dtype is deprecated and will be removed in a future version.\n",
            "Instructions for updating:\n",
            "Call initializer instance with the dtype argument instead of passing it to the constructor\n"
          ],
          "name": "stdout"
        }
      ]
    },
    {
      "cell_type": "code",
      "metadata": {
        "id": "Nhz5CGucLavo",
        "colab_type": "code",
        "outputId": "b73bde13-5303-4d92-d116-006212894acc",
        "colab": {
          "base_uri": "https://localhost:8080/",
          "height": 34
        }
      },
      "source": [
        "# predict the validation samples\n",
        "y_pred_prob = model.predict(x_val_lstm, \n",
        "                            batch_size = 1024, \n",
        "                            verbose = 1, \n",
        "                            use_multiprocessing = True)"
      ],
      "execution_count": 33,
      "outputs": [
        {
          "output_type": "stream",
          "text": [
            "384000/384000 [==============================] - 4s 12us/sample\n"
          ],
          "name": "stdout"
        }
      ]
    },
    {
      "cell_type": "code",
      "metadata": {
        "id": "WpjWVUyu6-SD",
        "colab_type": "code",
        "colab": {}
      },
      "source": [
        "# get the individual predicitons \n",
        "probs = []\n",
        "\n",
        "# calculate the 'jump' size\n",
        "jump_size = x_train.shape[1] - n_steps\n",
        "\n",
        "# iterate over each timestep\n",
        "for i in range(0, y_pred_prob.shape[0], jump_size):\n",
        "    probs.append(np.mean(y_pred_prob[i:i+jump_size]))\n",
        "\n",
        "# convert to numpy array\n",
        "probs = np.array(probs)"
      ],
      "execution_count": 0,
      "outputs": []
    },
    {
      "cell_type": "code",
      "metadata": {
        "id": "R724qP0MLavv",
        "colab_type": "code",
        "colab": {}
      },
      "source": [
        "# convert probabilities to integer predictions (0/1)\n",
        "y_pred = (probs > 0.5).astype(np.int)"
      ],
      "execution_count": 0,
      "outputs": []
    },
    {
      "cell_type": "code",
      "metadata": {
        "id": "XYajI2AQLav1",
        "colab_type": "code",
        "outputId": "c4cdda76-833e-4cee-8cbc-e375b5e15ffd",
        "colab": {
          "base_uri": "https://localhost:8080/",
          "height": 121
        }
      },
      "source": [
        "# generate confusion matrix and the corresponding AUC\n",
        "print(\"Accuracy: {}\".format(np.sum(y_val == y_pred)/len(y_val)))\n",
        "print(\"Confusion matrix: \\n{}\".format(confusion_matrix(y_val, y_pred)))\n",
        "print(\"ROC-AUC Score: {}\".format(roc_auc_score(y_val, probs)))\n",
        "print(\"ROC-AUC Score (binary): {}\".format(roc_auc_score(y_val, y_pred)))"
      ],
      "execution_count": 51,
      "outputs": [
        {
          "output_type": "stream",
          "text": [
            "Accuracy: 0.5145833333333333\n",
            "Confusion matrix: \n",
            "[[ 219  963]\n",
            " [ 202 1016]]\n",
            "ROC-AUC Score: 0.5140132224194889\n",
            "ROC-AUC Score (binary): 0.5097167696064948\n"
          ],
          "name": "stdout"
        }
      ]
    },
    {
      "cell_type": "code",
      "metadata": {
        "id": "_5aUrrwIuPkh",
        "colab_type": "code",
        "colab": {}
      },
      "source": [
        "# the results show that our model is not correctly predicting almost any of the time series\n",
        "# but that is be because the model is not cappable of finding any pattern in the data\n",
        "# that separates both groups, despite that, this model will be used to predict test samples\n",
        "# although the predictions are expected to not correctly differenciate between 'real' and\n",
        "# 'synthetic' ones"
      ],
      "execution_count": 0,
      "outputs": []
    },
    {
      "cell_type": "markdown",
      "metadata": {
        "id": "qRHzSP2ILawL",
        "colab_type": "text"
      },
      "source": [
        "---"
      ]
    },
    {
      "cell_type": "code",
      "metadata": {
        "id": "EwBu1OpDG3Gt",
        "colab_type": "code",
        "colab": {}
      },
      "source": [
        "# generate time sereis\n",
        "x_test = np.cumsum(df_test.values, axis = 1)"
      ],
      "execution_count": 0,
      "outputs": []
    },
    {
      "cell_type": "code",
      "metadata": {
        "id": "vvURctpuHSdb",
        "colab_type": "code",
        "colab": {}
      },
      "source": [
        "# scale time series\n",
        "x_test = scale_ts(x_test)"
      ],
      "execution_count": 0,
      "outputs": []
    },
    {
      "cell_type": "code",
      "metadata": {
        "id": "cxX-bxucHzJI",
        "colab_type": "code",
        "colab": {}
      },
      "source": [
        "# generate correct structure\n",
        "x_test_lstm = generate_structure(x_test, None, n_steps)"
      ],
      "execution_count": 0,
      "outputs": []
    },
    {
      "cell_type": "code",
      "metadata": {
        "id": "dff391PlII8L",
        "colab_type": "code",
        "colab": {}
      },
      "source": [
        "# expand last dimension\n",
        "x_test_lstm = np.expand_dims(x_test_lstm, axis = 2)"
      ],
      "execution_count": 0,
      "outputs": []
    },
    {
      "cell_type": "code",
      "metadata": {
        "id": "fvoHeOdPHuco",
        "colab_type": "code",
        "outputId": "22261d41-3eda-48cf-ed5a-90abb5822323",
        "colab": {
          "base_uri": "https://localhost:8080/",
          "height": 34
        }
      },
      "source": [
        "# predict the test samples\n",
        "y_pred_test = model.predict(x_test_lstm,\n",
        "                            batch_size = 1024, \n",
        "                            verbose = 1, \n",
        "                            use_multiprocessing = True)"
      ],
      "execution_count": 57,
      "outputs": [
        {
          "output_type": "stream",
          "text": [
            "1920000/1920000 [==============================] - 22s 11us/sample\n"
          ],
          "name": "stdout"
        }
      ]
    },
    {
      "cell_type": "code",
      "metadata": {
        "id": "w0onWmzBHfkM",
        "colab_type": "code",
        "colab": {}
      },
      "source": [
        "# get the individual predicitons \n",
        "probs_test = []\n",
        "\n",
        "# calculate the 'jump' size\n",
        "jump_size = x_test.shape[1] - n_steps\n",
        "\n",
        "# iterate over each timestep\n",
        "for i in range(0, y_pred_test.shape[0], jump_size):\n",
        "    probs_test.append(np.mean(y_pred_test[i:i+jump_size]))\n",
        "\n",
        "# generate numpy array\n",
        "probs_test = np.array(probs_test)"
      ],
      "execution_count": 0,
      "outputs": []
    },
    {
      "cell_type": "code",
      "metadata": {
        "id": "g-YSxOipsFl3",
        "colab_type": "code",
        "colab": {}
      },
      "source": [
        "# create results dataframe\n",
        "df_test_pred = pd.DataFrame(probs_test)\n",
        "\n",
        "# export to .csv\n",
        "df_test_pred.to_csv(\"submission.csv\", header = False, index = False)"
      ],
      "execution_count": 0,
      "outputs": []
    }
  ]
}